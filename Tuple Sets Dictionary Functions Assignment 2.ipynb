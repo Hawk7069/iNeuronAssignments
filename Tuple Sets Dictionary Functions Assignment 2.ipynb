{
 "cells": [
  {
   "cell_type": "markdown",
   "metadata": {},
   "source": [
    "### Problem 1.1:\n",
    "Write a Python Program(with class concepts) to find the area of the triangle using the below\n",
    "formula.<p/>\n",
    "area = (s*(s-a)*(s-b)*(s-c)) *** 0.5<p/>\n",
    "Function to take the length of the sides of triangle from user should be defined in the parent\n",
    "class and function to calculate the area should be defined in subclass."
   ]
  },
  {
   "cell_type": "code",
   "execution_count": 1,
   "metadata": {},
   "outputs": [],
   "source": [
    "class triangle:\n",
    "    def __init__(self, a=1, b=1, c=1):\n",
    "        self.a = a\n",
    "        self.b = b\n",
    "        self.c = c\n",
    "class tri_area(triangle):\n",
    "    def __init__(self, a=1, b=1, c=1):\n",
    "        triangle.__init__(self, a, b, c)\n",
    "    def area(self):\n",
    "        s = (self.a+self.b+self.c)/2\n",
    "        return (s*(s-self.a)*(s-self.b)*(s-self.c))**0.5"
   ]
  },
  {
   "cell_type": "code",
   "execution_count": 2,
   "metadata": {},
   "outputs": [
    {
     "name": "stdout",
     "output_type": "stream",
     "text": [
      "Area of triangle with sides (3, 4, 5): 6.0 sq. units\n"
     ]
    }
   ],
   "source": [
    "t = tri_area(3, 4, 5)\n",
    "print('Area of triangle with sides ({}, {}, {}): {} sq. units'.format(t.a, t.b, t.c, t.area()))"
   ]
  },
  {
   "cell_type": "markdown",
   "metadata": {},
   "source": [
    "### Problem 1.2:\n",
    "Write a function filter_long_words() that takes a list of words and an integer n and returns the list of words that are longer than n."
   ]
  },
  {
   "cell_type": "code",
   "execution_count": 3,
   "metadata": {},
   "outputs": [
    {
     "name": "stdout",
     "output_type": "stream",
     "text": [
      "Words: HELLO,ABC,BYE,WELCOME,a,\n",
      "\n",
      "Words(length <= 3): ABC,BYE,a,"
     ]
    }
   ],
   "source": [
    "def filter_long_words(words, n):\n",
    "    ret_words = []\n",
    "    for word in words:\n",
    "        if len(word) <=n:\n",
    "            ret_words.append(word)\n",
    "    return ret_words\n",
    "\n",
    "words = ['HELLO', 'ABC', 'BYE', 'WELCOME', 'a']\n",
    "print('Words: ', end='')\n",
    "for word in words:\n",
    "    print(word, end=',')\n",
    "print('\\n\\nWords(length <= 3): ', end='')\n",
    "for word in filter_long_words(words, 3):\n",
    "    print(word, end=',')"
   ]
  },
  {
   "cell_type": "markdown",
   "metadata": {},
   "source": [
    "### Problem 2.1:\n",
    "Write a Python program using function concept that maps list of words into a list of integers representing the lengths of the corresponding words.<p/>\n",
    "<strong>Hint</strong>: If a list [ ab,cde,erty] is passed on to the python function output should come as [2,3,4].<p/>\n",
    "Here 2,3 and 4 are the lengths of the words in the list."
   ]
  },
  {
   "cell_type": "code",
   "execution_count": 4,
   "metadata": {},
   "outputs": [
    {
     "name": "stdout",
     "output_type": "stream",
     "text": [
      "[5, 3, 3, 7, 1]\n"
     ]
    }
   ],
   "source": [
    "def map_len(words):\n",
    "    return list(map(len, words))\n",
    "print(map_len(words))"
   ]
  },
  {
   "cell_type": "markdown",
   "metadata": {},
   "source": [
    "### Problem 2.2:\n",
    "Write a Python function which takes a character (i.e. a string of length 1) and returns True if it is a vowel, False otherwise."
   ]
  },
  {
   "cell_type": "code",
   "execution_count": 8,
   "metadata": {},
   "outputs": [
    {
     "name": "stdout",
     "output_type": "stream",
     "text": [
      "a is Vowel.\n",
      "b is Consonent\n",
      "c is Consonent\n",
      "d is Consonent\n",
      "e is Vowel.\n",
      "A is Vowel.\n",
      "B is Consonent\n",
      "C is Consonent\n",
      "D is Consonent\n",
      "E is Vowel.\n"
     ]
    }
   ],
   "source": [
    "def checkVowel(a):\n",
    "    if a.lower() in 'aeiou':\n",
    "        return True\n",
    "    return False\n",
    "for i in 'abcdeABCDE':\n",
    "    if checkVowel(i):\n",
    "        print(i, 'is', 'Vowel.')\n",
    "    else:\n",
    "        print(i, 'is', 'Consonent')"
   ]
  },
  {
   "cell_type": "code",
   "execution_count": null,
   "metadata": {},
   "outputs": [],
   "source": []
  }
 ],
 "metadata": {
  "kernelspec": {
   "display_name": "Python 3",
   "language": "python",
   "name": "python3"
  },
  "language_info": {
   "codemirror_mode": {
    "name": "ipython",
    "version": 3
   },
   "file_extension": ".py",
   "mimetype": "text/x-python",
   "name": "python",
   "nbconvert_exporter": "python",
   "pygments_lexer": "ipython3",
   "version": "3.8.3"
  }
 },
 "nbformat": 4,
 "nbformat_minor": 4
}
