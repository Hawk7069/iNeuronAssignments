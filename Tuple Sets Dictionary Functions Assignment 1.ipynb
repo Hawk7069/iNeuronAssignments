{
 "cells": [
  {
   "cell_type": "markdown",
   "metadata": {},
   "source": [
    "### Problem 1.1:\n",
    "Write a Python Program to implement your own myreduce() function which works exactly like Python's built-in function reduce()."
   ]
  },
  {
   "cell_type": "code",
   "execution_count": 1,
   "metadata": {},
   "outputs": [],
   "source": [
    "import functools as f\n",
    "l1 = ['a', 'b', 'c', 'd']\n",
    "l2 = [1, 2, 3, 4]\n",
    "\n",
    "print('Results of functools.reduce(): ')\n",
    "print('l1 (a+b): ', f.reduce(lambda a, b: a+b, l1))\n",
    "print('l2 (a+b): ', f.reduce(lambda a, b: a+b, l2))\n",
    "\n",
    "def my_reduce(f, l):\n",
    "    l1 = l.copy()\n",
    "    for i in range(1, len(l1)):\n",
    "        l1[0] = f(l1[0], l1[i])\n",
    "    return l1[0]\n",
    "\n",
    "print('\\nResults of my_reduce(): ')\n",
    "print('l1 (a+b): ', my_reduce(lambda a, b: a+b, l1))\n",
    "print('l2 (a+b): ', my_reduce(lambda a, b: a+b, l2))"
   ]
  },
  {
   "cell_type": "markdown",
   "metadata": {},
   "source": [
    "### Problem 1.2:\n",
    "Write a Python program to implement your own myfilter() function which works exactly like Python's built-in function filter()."
   ]
  },
  {
   "cell_type": "code",
   "execution_count": 2,
   "metadata": {},
   "outputs": [
    {
     "name": "stdout",
     "output_type": "stream",
     "text": [
      "Results of filter():\n",
      "18\n",
      "24\n",
      "32\n",
      "\n",
      "Results of my_filter():\n",
      "18\n",
      "24\n",
      "32\n"
     ]
    }
   ],
   "source": [
    "ages = [5, 12, 17, 18, 24, 32]\n",
    "\n",
    "def myFunc(x):\n",
    "  if x < 18:\n",
    "    return False\n",
    "  else:\n",
    "    return True\n",
    "\n",
    "adults = filter(myFunc, ages)\n",
    "\n",
    "print('Results of filter():')\n",
    "for x in adults:\n",
    "  print(x)\n",
    "\n",
    "def my_filter(f, l):\n",
    "    l2 = []\n",
    "    for i in l:\n",
    "        if f(i):\n",
    "            l2.append(i)\n",
    "    return l2\n",
    "\n",
    "adults_myfilter = my_filter(myFunc, ages)\n",
    "\n",
    "print('\\nResults of my_filter():')\n",
    "for x in adults_myfilter:\n",
    "    print(x)"
   ]
  },
  {
   "cell_type": "markdown",
   "metadata": {},
   "source": [
    "### Problem 2:\n",
    "Implement List comprehensions to produce the following lists.\n",
    "<p/>\n",
    "Write List comprehensions to produce the following Lists\n",
    "<p/>\n",
    "<p/>\n",
    "['x', 'xx', 'xxx', 'xxxx', 'y', 'yy', 'yyy', 'yyyy', 'z', 'zz', 'zzz', 'zzzz']\n",
    "<p/>\n",
    "['x', 'y', 'z', 'xx', 'yy', 'zz', 'xxx', 'yyy', 'zzz', 'xxxx', 'yyyy', 'zzzz']\n",
    "<p/>\n",
    "[[2], [3], [4], [3], [4], [5], [4], [5], [6]] \n",
    "<p/>\n",
    "[[2, 3, 4, 5], [3, 4, 5, 6],\n",
    "[4, 5, 6, 7], [5, 6, 7, 8]]\n",
    "<p/>\n",
    "[(1, 1), (2, 1), (3, 1), (1, 2), (2, 2), (3, 2), (1, 3), (2, 3), (3, 3)]"
   ]
  },
  {
   "cell_type": "code",
   "execution_count": 3,
   "metadata": {},
   "outputs": [
    {
     "name": "stdout",
     "output_type": "stream",
     "text": [
      "['x', 'xx', 'xxx', 'xxxx', 'y', 'yy', 'yyy', 'yyyy', 'z', 'zz', 'zzz', 'zzzz']\n",
      "['x', 'y', 'z', 'xx', 'yy', 'zz', 'xxx', 'yyy', 'zzz', 'xxxx', 'yyyy', 'zzzz']\n",
      "[[2], [3], [4], [3], [4], [5], [4], [5], [6]]\n",
      "[[2, 3, 4, 5], [3, 4, 5, 6], [4, 5, 6, 7], [5, 6, 7, 8]]\n",
      "[(1, 1), (2, 1), (3, 1), (1, 2), (2, 2), (3, 2), (1, 3), (2, 3), (3, 3)]\n"
     ]
    }
   ],
   "source": [
    "out = []\n",
    "\n",
    "for i in ['x', 'y', 'z']:\n",
    "    for j in range(1, 5):\n",
    "        out.append(i*j)\n",
    "print(out)\n",
    "\n",
    "out = []\n",
    "\n",
    "for i in range(1, 5):\n",
    "    for j in ['x', 'y', 'z']:\n",
    "        out.append(j*i)\n",
    "print(out)\n",
    "\n",
    "out = []\n",
    "\n",
    "for i in range(2, 5):\n",
    "    for j in range(i, i+3):\n",
    "        out.append([j])\n",
    "print(out)\n",
    "\n",
    "out = []\n",
    "\n",
    "for i in range(2, 6):\n",
    "    out2 = []\n",
    "    for j in range(i, i+4):\n",
    "        out2.append(j)\n",
    "    out.append(out2)\n",
    "print(out)\n",
    "\n",
    "out = []\n",
    "\n",
    "for i in range(1, 4):\n",
    "    for j in range(1, 4):\n",
    "        out.append((j, i))\n",
    "print(out)"
   ]
  },
  {
   "cell_type": "code",
   "execution_count": null,
   "metadata": {},
   "outputs": [],
   "source": []
  }
 ],
 "metadata": {
  "kernelspec": {
   "display_name": "Python 3",
   "language": "python",
   "name": "python3"
  },
  "language_info": {
   "codemirror_mode": {
    "name": "ipython",
    "version": 3
   },
   "file_extension": ".py",
   "mimetype": "text/x-python",
   "name": "python",
   "nbconvert_exporter": "python",
   "pygments_lexer": "ipython3",
   "version": "3.8.3"
  }
 },
 "nbformat": 4,
 "nbformat_minor": 4
}
