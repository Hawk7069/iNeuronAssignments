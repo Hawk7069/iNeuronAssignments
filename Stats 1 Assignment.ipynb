{
 "cells": [
  {
   "cell_type": "markdown",
   "metadata": {},
   "source": [
    "### Problem Statement 1:\n",
    "The marks awarded for an assignment set for a Year 8 class of 20 students were as\n",
    "follows:<br>\n",
    "6 7 5 7 7 8 7 6 9 7 4 10 6 8 8 9 5 6 4 8<br>\n",
    "Calculate Mean, Median, Mode and Std. Dev."
   ]
  },
  {
   "cell_type": "code",
   "execution_count": 1,
   "metadata": {},
   "outputs": [],
   "source": [
    "marks = [6, 7, 5, 7, 7, 8, 7, 6, 9, 7, 4, 10, 6, 8, 8, 9, 5, 6, 4, 8]"
   ]
  },
  {
   "cell_type": "code",
   "execution_count": 2,
   "metadata": {},
   "outputs": [
    {
     "name": "stdout",
     "output_type": "stream",
     "text": [
      "Mean of Marks: 6.85\n"
     ]
    }
   ],
   "source": [
    "sum_marks = 0\n",
    "for mark in marks:\n",
    "    sum_marks += mark\n",
    "mean_marks = sum_marks / len(marks)\n",
    "print('Mean of Marks:', mean_marks)"
   ]
  },
  {
   "cell_type": "code",
   "execution_count": 3,
   "metadata": {},
   "outputs": [
    {
     "name": "stdout",
     "output_type": "stream",
     "text": [
      "Median of Marks: 7.0\n"
     ]
    }
   ],
   "source": [
    "marks.sort()\n",
    "if len(marks)%2 != 0:\n",
    "    med_marks = marks[len(marks)//2 + 1]\n",
    "else:\n",
    "    med_marks = (marks[len(marks)//2] + marks[len(marks)//2 + 1])/2\n",
    "print('Median of Marks:', med_marks)"
   ]
  },
  {
   "cell_type": "code",
   "execution_count": 4,
   "metadata": {},
   "outputs": [
    {
     "name": "stdout",
     "output_type": "stream",
     "text": [
      "Mode of Marks: 7\n"
     ]
    }
   ],
   "source": [
    "marks_freq = {}\n",
    "for mark in marks:\n",
    "    if mark not in marks_freq:\n",
    "        marks_freq[mark] = 1\n",
    "    else:\n",
    "        marks_freq[mark] += 1\n",
    "mode_marks = max(marks_freq, key=marks_freq.get)\n",
    "print('Mode of Marks:', mode_marks)"
   ]
  },
  {
   "cell_type": "code",
   "execution_count": 5,
   "metadata": {},
   "outputs": [
    {
     "name": "stdout",
     "output_type": "stream",
     "text": [
      "Standard Deviation of Marks: 1.5898113095584647\n"
     ]
    }
   ],
   "source": [
    "sum_meanSq = 0\n",
    "for mark in marks:\n",
    "    sum_meanSq += (mark - mean_marks)**2\n",
    "stdDev = (sum_meanSq/len(marks))**0.5\n",
    "print('Standard Deviation of Marks:', stdDev)"
   ]
  },
  {
   "cell_type": "markdown",
   "metadata": {},
   "source": [
    "### Problem Statement 2:\n",
    "The number of calls from motorists per day for roadside service was recorded for a\n",
    "particular month:<br>\n",
    "28, 122, 217, 130, 120, 86, 80, 90, 140, 120, 70, 40, 145, 113, 90, 68, 174, 194, 170,\n",
    "100, 75, 104, 97, 75,\n",
    "123, 100, 75, 104, 97, 75, 123, 100, 89, 120, 109<br>\n",
    "Calculate Mean, Median, Mode and Std. Dev."
   ]
  },
  {
   "cell_type": "code",
   "execution_count": 6,
   "metadata": {},
   "outputs": [],
   "source": [
    "num_calls = [28, 122, 217, 130, 120, 86, 80, 90, 140, 120, 70, 40, 145, 113, 90, 68, 174, 194, 170, 100, 75, 104, 97, 75, 123, 100, 75, 104, 97, 75, 123, 100, 89, 120, 109]"
   ]
  },
  {
   "cell_type": "code",
   "execution_count": 7,
   "metadata": {},
   "outputs": [
    {
     "name": "stdout",
     "output_type": "stream",
     "text": [
      "Mean of Calls: 107.51428571428572\n"
     ]
    }
   ],
   "source": [
    "sum_calls = 0\n",
    "for num_call in num_calls:\n",
    "    sum_calls += num_call\n",
    "mean_calls = sum_calls / len(num_calls)\n",
    "print('Mean of Calls:', mean_calls)"
   ]
  },
  {
   "cell_type": "code",
   "execution_count": 8,
   "metadata": {},
   "outputs": [
    {
     "name": "stdout",
     "output_type": "stream",
     "text": [
      "Median of Calls: 104\n"
     ]
    }
   ],
   "source": [
    "num_calls.sort()\n",
    "if len(num_calls)%2 != 0:\n",
    "    med_calls = num_calls[len(num_calls)//2 + 1]\n",
    "else:\n",
    "    med_calls = (num_calls[len(num_calls)//2] + num_calls[len(num_calls)//2 + 1])/2\n",
    "print('Median of Calls:', med_calls)"
   ]
  },
  {
   "cell_type": "code",
   "execution_count": 9,
   "metadata": {},
   "outputs": [
    {
     "name": "stdout",
     "output_type": "stream",
     "text": [
      "Mode of Calls: 75\n"
     ]
    }
   ],
   "source": [
    "calls_freq = {}\n",
    "for num_call in num_calls:\n",
    "    if num_call not in calls_freq:\n",
    "        calls_freq[num_call] = 1\n",
    "    else:\n",
    "        calls_freq[num_call] += 1\n",
    "mode_calls = max(calls_freq, key=calls_freq.get)\n",
    "print('Mode of Calls:', mode_calls)"
   ]
  },
  {
   "cell_type": "code",
   "execution_count": 10,
   "metadata": {},
   "outputs": [
    {
     "name": "stdout",
     "output_type": "stream",
     "text": [
      "Standard Deviation of Calls: 38.77287080168403\n"
     ]
    }
   ],
   "source": [
    "sum_meanSq = 0\n",
    "for num_call in num_calls:\n",
    "    sum_meanSq += (num_call - mean_calls)**2\n",
    "stdDev = (sum_meanSq/len(num_calls))**0.5\n",
    "print('Standard Deviation of Calls:', stdDev)"
   ]
  },
  {
   "cell_type": "markdown",
   "metadata": {},
   "source": [
    "### Problem Statement 3:\n",
    "The number of times I go to the gym in weekdays, are given below along with its\n",
    "associated probability:<br>\n",
    "x = 0, 1, 2, 3, 4, 5<br>\n",
    "f(x) = 0.09, 0.15, 0.40, 0.25, 0.10, 0.01<br>\n",
    "Calculate the mean no. of workouts in a week.<br> Also evaluate the variance involved in\n",
    "it."
   ]
  },
  {
   "cell_type": "code",
   "execution_count": 11,
   "metadata": {},
   "outputs": [],
   "source": [
    "P = {0: 0.09, 1: 0.15, 2: 0.40, 3: 0.25, 4: 0.10, 5: 0.01}"
   ]
  },
  {
   "cell_type": "code",
   "execution_count": 12,
   "metadata": {},
   "outputs": [
    {
     "name": "stdout",
     "output_type": "stream",
     "text": [
      "Mean no. of workouts in a week: 2.15\n"
     ]
    }
   ],
   "source": [
    "mean_num = 0\n",
    "for key, value in P.items():\n",
    "    mean_num += key*value\n",
    "print('Mean no. of workouts in a week:', mean_num)"
   ]
  },
  {
   "cell_type": "code",
   "execution_count": 13,
   "metadata": {},
   "outputs": [
    {
     "name": "stdout",
     "output_type": "stream",
     "text": [
      "Variance involved in no. of workouts in a week: 0.20458333333333334\n"
     ]
    }
   ],
   "source": [
    "sum_numSq = 0\n",
    "for key, value in P.items():\n",
    "    sum_numSq += ((mean_num - key)**2)*value\n",
    "print('Variance involved in no. of workouts in a week:', sum_numSq/len(P))"
   ]
  },
  {
   "cell_type": "markdown",
   "metadata": {},
   "source": [
    "### Problem Statement 4:\n",
    "Let the continuous random variable D denote the diameter of the hole drilled in an\n",
    "aluminum sheet. The target diameter to be achieved is 12.5mm. Random\n",
    "disturbances in the process often result in inaccuracy.\n",
    "Historical data shows that the distribution of D can be modelled by the PDF (d) =\n",
    "20e−20(d−12.5), d ≥ 12.5. If a part with diameter > 12.6 mm needs to be scrapped,\n",
    "what is the proportion of those parts? What is the CDF when the diameter is of 11\n",
    "mm? What is your conclusion regarding the proportion of scraps?"
   ]
  },
  {
   "cell_type": "code",
   "execution_count": 14,
   "metadata": {},
   "outputs": [],
   "source": [
    "from scipy.integrate import quad\n",
    "import numpy as np\n",
    "\n",
    "def integrand(d):\n",
    "    return 20*np.exp(-20*(d-12.5))"
   ]
  },
  {
   "cell_type": "code",
   "execution_count": 15,
   "metadata": {},
   "outputs": [
    {
     "data": {
      "text/plain": [
       "0.13533528323661398"
      ]
     },
     "execution_count": 15,
     "metadata": {},
     "output_type": "execute_result"
    }
   ],
   "source": [
    "quad(integrand, 12.6, np.inf)[0]"
   ]
  },
  {
   "cell_type": "code",
   "execution_count": 16,
   "metadata": {},
   "outputs": [
    {
     "name": "stdout",
     "output_type": "stream",
     "text": [
      "Proportion of part with diameter > 12.6mm: 0.13533528323661398\n"
     ]
    }
   ],
   "source": [
    "print('Proportion of part with diameter > 12.6mm:', quad(integrand, 12.6, np.inf)[0])"
   ]
  },
  {
   "cell_type": "markdown",
   "metadata": {},
   "source": [
    "Since for d < 12.5mm, PDF = 0, thus,\n",
    "\n",
    "<strong> CDF = 0 </strong> for diameter = 11mm."
   ]
  },
  {
   "cell_type": "markdown",
   "metadata": {},
   "source": [
    "### Problem Statement 5:\n",
    "\n",
    "A company manufactures LED bulbs with a faulty rate of 30%. If I randomly select 6\n",
    "chosen LEDs, what is the probability of having 2 faulty LEDs in my sample?<br>\n",
    "Calculate the average value of this process.<br> Also evaluate the standard deviation\n",
    "associated with it."
   ]
  },
  {
   "cell_type": "code",
   "execution_count": 17,
   "metadata": {},
   "outputs": [
    {
     "name": "stdout",
     "output_type": "stream",
     "text": [
      "Probability of having 2 faulty LEDs in a sample of 6 LEDs: 0.32413499999999995\n"
     ]
    }
   ],
   "source": [
    "from scipy.stats import binom\n",
    "prob_2 = binom.pmf(k=2, n=6, p=0.3)\n",
    "print('Probability of having 2 faulty LEDs in a sample of 6 LEDs:', prob_2)"
   ]
  },
  {
   "cell_type": "code",
   "execution_count": 18,
   "metadata": {},
   "outputs": [
    {
     "name": "stdout",
     "output_type": "stream",
     "text": [
      "Average of this process: 1.9448099999999997\n",
      "Standard Deviation associated: 1.1464855038987627\n"
     ]
    }
   ],
   "source": [
    "avg, var = binom.stats(6, prob_2, moments='mv')\n",
    "print('Average of this process:', avg)\n",
    "print('Standard Deviation associated:', var**0.5)"
   ]
  },
  {
   "cell_type": "markdown",
   "metadata": {},
   "source": [
    "### Problem Statement 6:\n",
    "\n",
    "Gaurav and Barakha are both preparing for entrance exams. Gaurav attempts to\n",
    "solve 8 questions per day with a correction rate of 75%, while Barakha averages\n",
    "around 12 questions per day with a correction rate of 45%. What is the probability\n",
    "that each of them will solve 5 questions correctly? What happens in cases of 4 and 6\n",
    "correct solutions? What do you infer from it? What are the two main governing\n",
    "factors affecting their ability to solve questions correctly? Give a pictorial\n",
    "representation of the same to validate your answer."
   ]
  },
  {
   "cell_type": "code",
   "execution_count": 19,
   "metadata": {},
   "outputs": [
    {
     "name": "stdout",
     "output_type": "stream",
     "text": [
      "Probability that each of them will solve 5 questions correctly: 0.04619989057299213\n",
      "Probability that Gaurav solves 5 questions correctly: 0.20764160156250022\n",
      "Probability that Barkha solves 5 questions correctly: 0.22249823843265792\n"
     ]
    }
   ],
   "source": [
    "prob_5_G = binom.pmf(k=5, n=8, p=0.75)\n",
    "prob_5_B = binom.pmf(k=5, n=12, p=0.45)\n",
    "prob_5 = prob_5_G * prob_5_B\n",
    "print('Probability that each of them will solve 5 questions correctly:', prob_5)\n",
    "print('Probability that Gaurav solves 5 questions correctly:', prob_5_G)\n",
    "print('Probability that Barkha solves 5 questions correctly:', prob_5_B)"
   ]
  },
  {
   "cell_type": "code",
   "execution_count": 20,
   "metadata": {},
   "outputs": [
    {
     "name": "stdout",
     "output_type": "stream",
     "text": [
      "Probability that each of them will solve 4 questions correctly: 0.014704826281912983\n",
      "Probability that Gaurav solves 4 questions correctly: 0.08651733398437506\n",
      "Probability that Barkha solves 4 questions correctly: 0.16996393213605795\n"
     ]
    }
   ],
   "source": [
    "prob_4_G = binom.pmf(k=4, n=8, p=0.75)\n",
    "prob_4_B = binom.pmf(k=4, n=12, p=0.45)\n",
    "prob_4 = prob_4_G * prob_4_B\n",
    "print('Probability that each of them will solve 4 questions correctly:', prob_4)\n",
    "print('Probability that Gaurav solves 4 questions correctly:', prob_4_G)\n",
    "print('Probability that Barkha solves 4 questions correctly:', prob_4_B)"
   ]
  },
  {
   "cell_type": "code",
   "execution_count": 21,
   "metadata": {},
   "outputs": [
    {
     "name": "stdout",
     "output_type": "stream",
     "text": [
      "Probability that each of them will solve 6 questions correctly: 0.06614984332042047\n",
      "Probability that Gaurav solves 6 questions correctly: 0.31146240234375017\n",
      "Probability that Barkha solves 6 questions correctly: 0.21238468214026424\n"
     ]
    }
   ],
   "source": [
    "prob_6_G = binom.pmf(k=6, n=8, p=0.75)\n",
    "prob_6_B = binom.pmf(k=6, n=12, p=0.45)\n",
    "prob_6 = prob_6_G * prob_6_B\n",
    "print('Probability that each of them will solve 6 questions correctly:', prob_6)\n",
    "print('Probability that Gaurav solves 6 questions correctly:', prob_6_G)\n",
    "print('Probability that Barkha solves 6 questions correctly:', prob_6_B)"
   ]
  },
  {
   "cell_type": "code",
   "execution_count": 22,
   "metadata": {},
   "outputs": [
    {
     "name": "stdout",
     "output_type": "stream",
     "text": [
      "Mean Value for Gaurav: 6.0\n",
      "Mean value for Barkha: 5.4\n"
     ]
    }
   ],
   "source": [
    "print('Mean Value for Gaurav:', 8*0.75)\n",
    "print('Mean value for Barkha:', 12*0.45)"
   ]
  },
  {
   "cell_type": "markdown",
   "metadata": {},
   "source": [
    "From above 3 cases, we can infer that there are higher chances of both of them solving 6 questions correctly compared to 4 and 5 questions respectively. "
   ]
  },
  {
   "cell_type": "markdown",
   "metadata": {},
   "source": [
    "The 2 main governing factors affecting their ability to solve the questions correctly are:<br>\n",
    "1. Number of attempted questions.<br>\n",
    "2. Closeness of number of questions solved correctly to the mean number of questions solved correctly."
   ]
  },
  {
   "cell_type": "code",
   "execution_count": 23,
   "metadata": {},
   "outputs": [
    {
     "data": {
      "text/plain": [
       "array([ 1,  2,  3,  4,  5,  6,  7,  8,  9, 10, 11, 12])"
      ]
     },
     "execution_count": 23,
     "metadata": {},
     "output_type": "execute_result"
    }
   ],
   "source": [
    "x = np.arange(1, 13)\n",
    "x"
   ]
  },
  {
   "cell_type": "code",
   "execution_count": 24,
   "metadata": {},
   "outputs": [
    {
     "data": {
      "text/plain": [
       "<matplotlib.collections.LineCollection at 0x1dab4a14f40>"
      ]
     },
     "execution_count": 24,
     "metadata": {},
     "output_type": "execute_result"
    },
    {
     "data": {
      "image/png": "[encoded data removed]",
      "text/plain": [
       "<Figure size 432x288 with 1 Axes>"
      ]
     },
     "metadata": {
      "needs_background": "light"
     },
     "output_type": "display_data"
    }
   ],
   "source": [
    "import seaborn as sns\n",
    "import matplotlib.pyplot as plt\n",
    "%matplotlib inline\n",
    "\n",
    "fig, ax = plt.subplots(1, 1)\n",
    "x = np.arange(binom.ppf(0.01, n=8, p=0.75),\n",
    "              binom.ppf(0.99, n=8, p=0.75))\n",
    "ax.plot(x, binom.pmf(x, n=8, p=0.75), 'bo', ms=8, label='binom pmf')\n",
    "ax.vlines(x, 0, binom.pmf(x, n=8, p=0.75), colors='b', lw=5, alpha=0.5)\n",
    "x = np.arange(binom.ppf(0.01, n=12, p=0.45),\n",
    "              binom.ppf(0.99, n=12, p=0.45))\n",
    "ax.plot(x, binom.pmf(x, n=12, p=0.45), 'ro', ms=8, label='binom pmf')\n",
    "ax.vlines(x, 0, binom.pmf(x, n=12, p=0.45), colors='r', lw=5, alpha=0.5)"
   ]
  },
  {
   "cell_type": "markdown",
   "metadata": {},
   "source": [
    "From graph we can clearly see that closer the number of correct questions solved to the mean correctly solved questions, higher the probability."
   ]
  },
  {
   "cell_type": "markdown",
   "metadata": {},
   "source": [
    "### Problem Statement 7:\n",
    "\n",
    "Customers arrive at a rate of 72 per hour to my shop. What is the probability of k\n",
    "customers arriving in 4 minutes? <br>a) 5 customers, <br>b) not more than 3 customers,<br> c)\n",
    "more than 3 customers.<br> Give a pictorial representation of the same to validate your\n",
    "answer."
   ]
  },
  {
   "cell_type": "code",
   "execution_count": 25,
   "metadata": {},
   "outputs": [
    {
     "name": "stdout",
     "output_type": "stream",
     "text": [
      "Arrival rate every 4 minute = 4.8\n"
     ]
    }
   ],
   "source": [
    "arr_r_h = 72 # arrival rate per hour\n",
    "arr_r_m = arr_r_h/60 # arrival rate per minute\n",
    "arr_r_4m = arr_r_m*4 # arrival rate per 4 minutes\n",
    "\n",
    "print('Arrival rate every 4 minute =', arr_r_4m)"
   ]
  },
  {
   "cell_type": "code",
   "execution_count": 26,
   "metadata": {},
   "outputs": [],
   "source": [
    "# Distribution of people arriving per minute is a poisson distribution scenario\n",
    "# So for exactly 5 customers every 4 minutes, mu = 4.8, k = 5\n",
    "# For not more than 3 customers, mu = 4.8, k=0,1,2,3\n",
    "# For more than 3 customers, poisson pmf value = 1- (value for not more than 3)\n",
    "from scipy.stats import poisson\n",
    "\n",
    "mu = arr_r_4m"
   ]
  },
  {
   "cell_type": "code",
   "execution_count": 27,
   "metadata": {},
   "outputs": [
    {
     "name": "stdout",
     "output_type": "stream",
     "text": [
      "Exactly 5 customers: 0.17474768364388296\n"
     ]
    }
   ],
   "source": [
    "print('Exactly 5 customers:', poisson.pmf(k=5, mu=mu))"
   ]
  },
  {
   "cell_type": "code",
   "execution_count": 28,
   "metadata": {},
   "outputs": [
    {
     "name": "stdout",
     "output_type": "stream",
     "text": [
      "Not more than 3 customers: 0.29422991649656405\n"
     ]
    }
   ],
   "source": [
    "LTE_3 = poisson.pmf(k=0, mu=mu) + poisson.pmf(k=1, mu=mu) + poisson.pmf(k=2, mu=mu) + poisson.pmf(k=3, mu=mu)\n",
    "print('Not more than 3 customers:', LTE_3)"
   ]
  },
  {
   "cell_type": "code",
   "execution_count": 29,
   "metadata": {},
   "outputs": [
    {
     "name": "stdout",
     "output_type": "stream",
     "text": [
      "More than 3 customers: 0.705770083503436\n"
     ]
    }
   ],
   "source": [
    "GT_3 = 1 - LTE_3\n",
    "print('More than 3 customers:', GT_3)"
   ]
  },
  {
   "cell_type": "code",
   "execution_count": 30,
   "metadata": {},
   "outputs": [
    {
     "data": {
      "image/png": "[encoded data removed]",
      "text/plain": [
       "<Figure size 432x288 with 1 Axes>"
      ]
     },
     "metadata": {
      "needs_background": "light"
     },
     "output_type": "display_data"
    }
   ],
   "source": [
    "fig, ax = plt.subplots(1, 1)\n",
    "\n",
    "x = np.arange(poisson.ppf(0.01, mu),\n",
    "              poisson.ppf(0.99, mu))\n",
    "ax.plot(x, poisson.pmf(x, mu), 'bo', ms=8, label='poisson pmf')\n",
    "ax.vlines(x, 0, poisson.pmf(x, mu), colors='b', lw=5, alpha=0.5)\n",
    "rv = poisson(mu)\n",
    "ax.vlines(x, 0, rv.pmf(x), colors='k', linestyles='-', lw=1,\n",
    "        label='frozen pmf')\n",
    "ax.legend(loc='best', frameon=False)\n",
    "plt.show()"
   ]
  },
  {
   "cell_type": "markdown",
   "metadata": {},
   "source": [
    "### Problem Statement 8:\n",
    "\n",
    "I work as a data analyst in Aeon Learning Pvt. Ltd. After analyzing data, I make\n",
    "reports, where I have the efficiency of entering 77 words per minute with 6 errors per\n",
    "hour.<br> What is the probability that I will commit 2 errors in a 455-word financial report?<br>\n",
    "What happens when the no. of words increases/decreases (in case of 1000 words,\n",
    "255 words)?<br>\n",
    "How is the λ affected?<br>\n",
    "How does it influence the PMF?<br>\n",
    "Give a pictorial representation of the same to validate your answer."
   ]
  },
  {
   "cell_type": "code",
   "execution_count": 31,
   "metadata": {},
   "outputs": [
    {
     "name": "stdout",
     "output_type": "stream",
     "text": [
      "Probability of committing 2 errors in 455 word financial report: 0.09669027375144444\n"
     ]
    }
   ],
   "source": [
    "wpm = 77\n",
    "eph = 6\n",
    "epm = eph / 60\n",
    "\n",
    "def get_errors_mean(words, wpm=77, eph=6):\n",
    "    time = words / wpm\n",
    "    epm = eph / 60\n",
    "    return epm * time\n",
    "\n",
    "error2in455 = poisson.pmf(k = 2, mu = get_errors_mean(words=455))\n",
    "print('Probability of committing 2 errors in 455 word financial report:', error2in455)"
   ]
  },
  {
   "cell_type": "code",
   "execution_count": 32,
   "metadata": {},
   "outputs": [
    {
     "name": "stdout",
     "output_type": "stream",
     "text": [
      "Probability of committing 2 errors in 1000 word financial report: 0.23012815007300153\n"
     ]
    }
   ],
   "source": [
    "error2in1000 = poisson.pmf(k = 2, mu = get_errors_mean(words=1000))\n",
    "print('Probability of committing 2 errors in 1000 word financial report:', error2in1000)"
   ]
  },
  {
   "cell_type": "code",
   "execution_count": 33,
   "metadata": {},
   "outputs": [
    {
     "name": "stdout",
     "output_type": "stream",
     "text": [
      "Probability of committing 2 errors in 255 word financial report: 0.039377135392854125\n"
     ]
    }
   ],
   "source": [
    "error2in255 = poisson.pmf(k = 2, mu = get_errors_mean(words=255))\n",
    "print('Probability of committing 2 errors in 255 word financial report:', error2in255)"
   ]
  },
  {
   "cell_type": "markdown",
   "metadata": {},
   "source": [
    "We can clearly see that as the number of words in the document increases(towards our specified value of 2), probability of committing 2 errors increases."
   ]
  },
  {
   "cell_type": "code",
   "execution_count": 34,
   "metadata": {},
   "outputs": [
    {
     "data": {
      "image/png": "[encoded data removed]",
      "text/plain": [
       "<Figure size 432x288 with 1 Axes>"
      ]
     },
     "metadata": {
      "needs_background": "light"
     },
     "output_type": "display_data"
    }
   ],
   "source": [
    "x = [get_errors_mean(255), get_errors_mean(455), get_errors_mean(1000)]\n",
    "y = [error2in255, error2in455, error2in1000]\n",
    "sns.lineplot(x=x, y=y)\n",
    "sns.scatterplot(x=x, y=y)\n",
    "plt.show()"
   ]
  },
  {
   "cell_type": "markdown",
   "metadata": {},
   "source": [
    "We can observe that for our considered range of number of words, the plot is almost linear with increase in number of words."
   ]
  },
  {
   "cell_type": "markdown",
   "metadata": {},
   "source": [
    "### Problem Statement 9:\n",
    "\n",
    "Let the continuous random variable D denote the diameter of the hole drilled in an\n",
    "aluminum sheet. The target diameter to be achieved is 12.5mm. Random\n",
    "disturbances in the process often result in inaccuracy.<br>\n",
    "Historical data shows that the distribution of D can be modelled by the PDF,<br> f(d) =\n",
    "20e−20(d−12.5), d ≥ 12.5.<br> If a part with diameter > 12.6 mm needs to be scrapped,\n",
    "what is the proportion of those parts? What is the CDF when the diameter is of 11\n",
    "mm?<br>\n",
    "What is the conclusion of this experiment?"
   ]
  },
  {
   "cell_type": "code",
   "execution_count": 35,
   "metadata": {},
   "outputs": [],
   "source": [
    "### This problem is same as problem statement 4. ###"
   ]
  },
  {
   "cell_type": "markdown",
   "metadata": {},
   "source": [
    "### Problem Statement 10:\n",
    "\n",
    "Please compute the following:<br>\n",
    "a) P(Z > 1.26), . P(Z < −0.86), P(Z > −1.37), P(−1.25 < Z < 0.37), . P(Z ≤ −4.6)<br>\n",
    "b) Find the value z such that P(Z > z) = 0.05<br>\n",
    "c) Find the value of z such that P(−z < Z < z) = 0.99"
   ]
  },
  {
   "cell_type": "code",
   "execution_count": 36,
   "metadata": {},
   "outputs": [],
   "source": [
    "import scipy.stats as stat"
   ]
  },
  {
   "cell_type": "markdown",
   "metadata": {},
   "source": [
    "## A"
   ]
  },
  {
   "cell_type": "code",
   "execution_count": 37,
   "metadata": {},
   "outputs": [
    {
     "name": "stdout",
     "output_type": "stream",
     "text": [
      "P(Z > 1.26): 0.1038346811213004\n"
     ]
    }
   ],
   "source": [
    "z1 = stat.norm.sf(1.26)\n",
    "print('P(Z > 1.26):', z1)"
   ]
  },
  {
   "cell_type": "code",
   "execution_count": 38,
   "metadata": {},
   "outputs": [
    {
     "name": "stdout",
     "output_type": "stream",
     "text": [
      "P(Z < -0.86): 0.1948945212518084\n"
     ]
    }
   ],
   "source": [
    "z2 = 1 - stat.norm.sf(-0.86)\n",
    "print('P(Z < -0.86):', z2)"
   ]
  },
  {
   "cell_type": "code",
   "execution_count": 39,
   "metadata": {},
   "outputs": [
    {
     "name": "stdout",
     "output_type": "stream",
     "text": [
      "P(Z > -1.37): 0.914656549178033\n"
     ]
    }
   ],
   "source": [
    "z3 = stat.norm.sf(-1.37)\n",
    "print('P(Z > -1.37):', z3)"
   ]
  },
  {
   "cell_type": "code",
   "execution_count": 40,
   "metadata": {},
   "outputs": [
    {
     "name": "stdout",
     "output_type": "stream",
     "text": [
      "P(-1.25 < Z < 0.37): 0.5386589811336914\n"
     ]
    }
   ],
   "source": [
    "z4 = stat.norm.sf(-1.25) - stat.norm.sf(0.37)\n",
    "print('P(-1.25 < Z < 0.37):', z4)"
   ]
  },
  {
   "cell_type": "code",
   "execution_count": 41,
   "metadata": {},
   "outputs": [
    {
     "name": "stdout",
     "output_type": "stream",
     "text": [
      "P(Z <= -4.6): 2.1124547024964357e-06\n"
     ]
    }
   ],
   "source": [
    "z5 = 1 - stat.norm.sf(-4.6)\n",
    "print('P(Z <= -4.6):', z5)"
   ]
  },
  {
   "cell_type": "markdown",
   "metadata": {},
   "source": [
    "## B"
   ]
  },
  {
   "cell_type": "code",
   "execution_count": 42,
   "metadata": {},
   "outputs": [
    {
     "name": "stdout",
     "output_type": "stream",
     "text": [
      "P(Z>z) = 0.05 is possible for z = 1.6448536269514722\n",
      "P(Z > 1.6448536269514722) = 0.050000000000000044\n"
     ]
    }
   ],
   "source": [
    "print('P(Z>z) = 0.05 is possible for z =', stat.norm.ppf(1-0.05))\n",
    "print('P(Z > {}) ='.format(stat.norm.ppf(1-0.05)), 1 - stat.norm.cdf(stat.norm.ppf(1-0.05)))"
   ]
  },
  {
   "cell_type": "markdown",
   "metadata": {},
   "source": [
    "## C"
   ]
  },
  {
   "cell_type": "code",
   "execution_count": 43,
   "metadata": {},
   "outputs": [
    {
     "name": "stdout",
     "output_type": "stream",
     "text": [
      "P(-z < Z < z) = 0.99 is possible for z = 2.5758293035489004\n"
     ]
    }
   ],
   "source": [
    "print('P(-z < Z < z) = 0.99 is possible for z =', stat.norm.ppf(1-(1-0.99)/2))"
   ]
  },
  {
   "cell_type": "markdown",
   "metadata": {},
   "source": [
    "### Problem Statement 11:\n",
    "\n",
    "The current flow in a copper wire follow a normal distribution with a mean of 10 mA\n",
    "and a variance of 4 (mA)2.<br>\n",
    "What is the probability that a current measurement will exceed 13 mA?<br> What is the\n",
    "probability that a current measurement is between 9 and 11mA?<br> Determine the\n",
    "current measurement which has a probability of 0.98."
   ]
  },
  {
   "cell_type": "code",
   "execution_count": 44,
   "metadata": {},
   "outputs": [],
   "source": [
    "def get_p_val(x,mean,std):\n",
    "    z_score= (x-mean)/std\n",
    "    p_value= stat.norm.sf(z_score)\n",
    "    return p_value"
   ]
  },
  {
   "cell_type": "code",
   "execution_count": 45,
   "metadata": {},
   "outputs": [
    {
     "name": "stdout",
     "output_type": "stream",
     "text": [
      "Probability of measurement exceeding 13mA: 0.06680720126885807\n"
     ]
    }
   ],
   "source": [
    "print(\"Probability of measurement exceeding 13mA: {}\".format(get_p_val(13, 10, np.sqrt(4))))"
   ]
  },
  {
   "cell_type": "code",
   "execution_count": 46,
   "metadata": {},
   "outputs": [
    {
     "name": "stdout",
     "output_type": "stream",
     "text": [
      "Probability of measurement between 9mA and 11mA: 0.38292492254802624\n"
     ]
    }
   ],
   "source": [
    "print(\"Probability of measurement between 9mA and 11mA: {}\".format(get_p_val(9, 10, np.sqrt(4)) - get_p_val(11, 10, np.sqrt(4))))"
   ]
  },
  {
   "cell_type": "code",
   "execution_count": 47,
   "metadata": {},
   "outputs": [
    {
     "name": "stdout",
     "output_type": "stream",
     "text": [
      "Current Measurement with probability 0.98 is: 14.107497821263646\n"
     ]
    }
   ],
   "source": [
    "def get_curr_val(p,mean,std):\n",
    "    z_score = stat.norm.ppf(p)\n",
    "    reading = (z_score*std)+mean\n",
    "    return reading\n",
    "\n",
    "print(\"Current Measurement with probability 0.98 is: {}\".format(get_curr_val(0.98,10,np.sqrt(4))))"
   ]
  },
  {
   "cell_type": "markdown",
   "metadata": {},
   "source": [
    "### Problem Statement 12:\n",
    "\n",
    "The shaft in a piston has its diameter normally distributed with a mean of 0.2508 inch\n",
    "and a standard deviation of 0.0005 inch. The specifications of the shaft are 0.2500 ∓\n",
    "0.0015 inch.<br> What proportion of shafts are in sync with the specifications?<br> If the\n",
    "process is centered so that the mean is equal to the target value of 0.2500, what\n",
    "proportion of shafts conform to the new specifications?<br> What is your conclusion from\n",
    "this experiment?"
   ]
  },
  {
   "cell_type": "code",
   "execution_count": 48,
   "metadata": {},
   "outputs": [
    {
     "name": "stdout",
     "output_type": "stream",
     "text": [
      "Proportion of shaft that is in sync with specification with mean=0.2508: 0.91924122831152\n"
     ]
    }
   ],
   "source": [
    "### mean = 0.2508\n",
    "### std dev = 0.0005\n",
    "### specs = 0.2500 +- 0.0015\n",
    "\n",
    "mean = 0.2508\n",
    "std = 0.0005\n",
    "lv = 0.2500 - 0.0015\n",
    "hv = 0.2500 + 0.0015\n",
    "\n",
    "def get_p_val(x,mean,std):\n",
    "    z_score= (x-mean)/std\n",
    "    p_value= stat.norm.sf(z_score)\n",
    "    return p_value\n",
    "\n",
    "\n",
    "a=get_p_val(lv,mean,std)\n",
    "b=get_p_val(hv,mean,std)\n",
    "\n",
    "print(\"Proportion of shaft that is in sync with specification with mean={}: {}\".format(mean,a-b))"
   ]
  },
  {
   "cell_type": "code",
   "execution_count": 49,
   "metadata": {},
   "outputs": [
    {
     "name": "stdout",
     "output_type": "stream",
     "text": [
      "Proportion of shaft that is in sync with specification with mean=0.25: 0.9973002039367398\n"
     ]
    }
   ],
   "source": [
    "c=get_p_val(lv,0.25,std)\n",
    "d=get_p_val(hv,0.25,std)\n",
    "\n",
    "print(\"Proportion of shaft that is in sync with specification with mean={}: {}\".format(0.25,c-d))"
   ]
  },
  {
   "cell_type": "markdown",
   "metadata": {},
   "source": [
    "Conclusion: With std. deviation as 0.0005 and deviation in data at 3\\*sd = 0.0015, by shifting the mean from 0.2508 to 0.25, we can increase the data range covered from 91.924% to 99.73%."
   ]
  },
  {
   "cell_type": "code",
   "execution_count": null,
   "metadata": {},
   "outputs": [],
   "source": []
  }
 ],
 "metadata": {
  "kernelspec": {
   "display_name": "Python 3",
   "language": "python",
   "name": "python3"
  },
  "language_info": {
   "codemirror_mode": {
    "name": "ipython",
    "version": 3
   },
   "file_extension": ".py",
   "mimetype": "text/x-python",
   "name": "python",
   "nbconvert_exporter": "python",
   "pygments_lexer": "ipython3",
   "version": "3.8.3"
  }
 },
 "nbformat": 4,
 "nbformat_minor": 4
}
