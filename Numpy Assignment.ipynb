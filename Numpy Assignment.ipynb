{
 "cells": [
  {
   "cell_type": "markdown",
   "metadata": {},
   "source": [
    "### Problem 1:\n",
    "Write a function so that the columns of the output matrix are powers of the input vector. <br>\n",
    "The order of the powers is determined by the increasing boolean argument. Specifically, when increasing is False, the i-th output column is the input vector raised element-wise to the power of N - i - 1. <br>\n",
    "<strong>HINT</strong>: Such a matrix with a geometric progression in each row is named for Alexandre-Theophile Vandermonde."
   ]
  },
  {
   "cell_type": "code",
   "execution_count": 1,
   "metadata": {},
   "outputs": [],
   "source": [
    "def ATV_matrix(in_vector, n, increasing=True):\n",
    "    out_vector = []\n",
    "    \n",
    "    if increasing:\n",
    "        pows = [i for i in range(n)]\n",
    "    else:\n",
    "        pows = [i for i in range(n-1,-1, -1)]\n",
    "        \n",
    "    for i in pows:\n",
    "        out = []\n",
    "        \n",
    "        for j in in_vector:\n",
    "            out.append(j**i)\n",
    "        \n",
    "        out_vector.append(out)\n",
    "    return out_vector"
   ]
  },
  {
   "cell_type": "code",
   "execution_count": 2,
   "metadata": {},
   "outputs": [
    {
     "name": "stdout",
     "output_type": "stream",
     "text": [
      "[[1, 1, 1, 1], [1, 2, 3, 4], [1, 4, 9, 16], [1, 8, 27, 64], [1, 16, 81, 256]]\n"
     ]
    }
   ],
   "source": [
    "print(ATV_matrix(in_vector=[1, 2, 3, 4], n=5))"
   ]
  },
  {
   "cell_type": "code",
   "execution_count": 3,
   "metadata": {},
   "outputs": [
    {
     "name": "stdout",
     "output_type": "stream",
     "text": [
      "[[1, 16, 81, 256], [1, 8, 27, 64], [1, 4, 9, 16], [1, 2, 3, 4], [1, 1, 1, 1]]\n"
     ]
    }
   ],
   "source": [
    "print(ATV_matrix(in_vector=[1, 2, 3, 4], n=5, increasing=False))"
   ]
  },
  {
   "cell_type": "markdown",
   "metadata": {},
   "source": [
    "### Problem 2:\n",
    "Write a function to find moving average in an array over a window:<br>\n",
    "Test it over [3, 5, 7, 2, 8, 10, 11, 65, 72, 81, 99, 100, 150] and window of 3."
   ]
  },
  {
   "cell_type": "code",
   "execution_count": 4,
   "metadata": {},
   "outputs": [],
   "source": [
    "def moving_avg(in_vec, k=1):\n",
    "    out_vec = []\n",
    "    if k < 1:\n",
    "        return 'Error: k should be greater than 1.'\n",
    "    \n",
    "    elif len(in_vec) < k:\n",
    "        return 'Error: length of input vector should be greater than or equal to k.'\n",
    "    \n",
    "    else:\n",
    "        for i in range(len(in_vec)-k+1):\n",
    "            sum_win = 0\n",
    "            for j in range(k):\n",
    "                sum_win += in_vec[i+j]\n",
    "            out_vec.append(sum_win/k)\n",
    "    return out_vec"
   ]
  },
  {
   "cell_type": "code",
   "execution_count": 5,
   "metadata": {},
   "outputs": [
    {
     "name": "stdout",
     "output_type": "stream",
     "text": [
      "[5.0, 4.666666666666667, 5.666666666666667, 6.666666666666667, 9.666666666666666, 28.666666666666668, 49.333333333333336, 72.66666666666667, 84.0, 93.33333333333333, 116.33333333333333]\n"
     ]
    }
   ],
   "source": [
    "print(moving_avg(in_vec=[3, 5, 7, 2, 8, 10, 11, 65, 72, 81, 99, 100, 150], k=3))"
   ]
  },
  {
   "cell_type": "code",
   "execution_count": null,
   "metadata": {},
   "outputs": [],
   "source": []
  }
 ],
 "metadata": {
  "kernelspec": {
   "display_name": "Python 3",
   "language": "python",
   "name": "python3"
  },
  "language_info": {
   "codemirror_mode": {
    "name": "ipython",
    "version": 3
   },
   "file_extension": ".py",
   "mimetype": "text/x-python",
   "name": "python",
   "nbconvert_exporter": "python",
   "pygments_lexer": "ipython3",
   "version": "3.8.3"
  }
 },
 "nbformat": 4,
 "nbformat_minor": 4
}
